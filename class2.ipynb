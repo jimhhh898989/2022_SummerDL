{
  "nbformat": 4,
  "nbformat_minor": 0,
  "metadata": {
    "colab": {
      "name": "class2.ipynb",
      "provenance": [],
      "authorship_tag": "ABX9TyOKMCQzFuK4+hjJF8hHYzQs",
      "include_colab_link": true
    },
    "kernelspec": {
      "name": "python3",
      "display_name": "Python 3"
    },
    "language_info": {
      "name": "python"
    }
  },
  "cells": [
    {
      "cell_type": "markdown",
      "metadata": {
        "id": "view-in-github",
        "colab_type": "text"
      },
      "source": [
        "<a href=\"https://colab.research.google.com/github/jimhhh898989/2022_SummerDL/blob/main/class2.ipynb\" target=\"_parent\"><img src=\"https://colab.research.google.com/assets/colab-badge.svg\" alt=\"Open In Colab\"/></a>"
      ]
    },
    {
      "cell_type": "code",
      "execution_count": 1,
      "metadata": {
        "id": "Rd_ZqI80jL3O"
      },
      "outputs": [],
      "source": [
        "import torch\n",
        "import torch.nn as nn"
      ]
    },
    {
      "cell_type": "code",
      "source": [
        "# Binary Cross Entropy\n",
        "y_hat = torch.tensor([[0.77],[0.2],[0.12],[0.97]])\n",
        "y = torch.tensor([[1.],[0.],[0.],[1.]])\n",
        "bce = nn.BCELoss(reduction='none')\n",
        "loss = bce(y_hat, y)\n",
        "print(loss)"
      ],
      "metadata": {
        "colab": {
          "base_uri": "https://localhost:8080/"
        },
        "id": "vmgXBsT4kp-c",
        "outputId": "6bc76e3b-d126-4148-c52d-3c8371d23fbd"
      },
      "execution_count": 5,
      "outputs": [
        {
          "output_type": "stream",
          "name": "stdout",
          "text": [
            "tensor([[0.2614],\n",
            "        [0.2231],\n",
            "        [0.1278],\n",
            "        [0.0305]])\n"
          ]
        }
      ]
    },
    {
      "cell_type": "code",
      "source": [
        "# use softmax to turn value into probability\n",
        "output = torch.tensor([[1.6,-0.8,3.7],[0.2,-3.2,-1.6]])\n",
        "softmax = nn.Softmax(dim=1) # 對第1維的每個資料做資料做softmax, default是對第第1維維\n",
        "print(softmax(output))"
      ],
      "metadata": {
        "colab": {
          "base_uri": "https://localhost:8080/"
        },
        "id": "094UlexgmO_Z",
        "outputId": "1cb927fe-ce30-4d64-81f9-fe08f73e24a7"
      },
      "execution_count": 8,
      "outputs": [
        {
          "output_type": "stream",
          "name": "stdout",
          "text": [
            "tensor([[0.1080, 0.0098, 0.8822],\n",
            "        [0.8343, 0.0278, 0.1379]])\n"
          ]
        }
      ]
    }
  ]
}