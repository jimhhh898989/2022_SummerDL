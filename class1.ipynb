{
  "nbformat": 4,
  "nbformat_minor": 0,
  "metadata": {
    "colab": {
      "name": "class1.ipynb",
      "provenance": [],
      "authorship_tag": "ABX9TyOdGV6fUBtqpQgJNEoCip9I",
      "include_colab_link": true
    },
    "kernelspec": {
      "name": "python3",
      "display_name": "Python 3"
    },
    "language_info": {
      "name": "python"
    },
    "accelerator": "GPU",
    "gpuClass": "standard"
  },
  "cells": [
    {
      "cell_type": "markdown",
      "metadata": {
        "id": "view-in-github",
        "colab_type": "text"
      },
      "source": [
        "<a href=\"https://colab.research.google.com/github/jimhhh898989/2022_SummerDL/blob/main/class1.ipynb\" target=\"_parent\"><img src=\"https://colab.research.google.com/assets/colab-badge.svg\" alt=\"Open In Colab\"/></a>"
      ]
    },
    {
      "cell_type": "code",
      "execution_count": null,
      "metadata": {
        "id": "aNDPSuwiRwJi"
      },
      "outputs": [],
      "source": [
        "import torch\n",
        "import numpy as np"
      ]
    },
    {
      "cell_type": "code",
      "source": [
        "tensor = torch.rand(2,3)\n",
        "matrix = np.random.rand(2,3)\n",
        "print(f\"Tensor:\\n {tensor}\")\n",
        "print(f\"Matrix:\\n {matrix}\")"
      ],
      "metadata": {
        "colab": {
          "base_uri": "https://localhost:8080/"
        },
        "id": "TaMtVMyUSYLY",
        "outputId": "ac00ccca-9910-417f-f014-0399ab6e57b3"
      },
      "execution_count": null,
      "outputs": [
        {
          "output_type": "stream",
          "name": "stdout",
          "text": [
            "Tensor:\n",
            " tensor([[0.9596, 0.1535, 0.7393],\n",
            "        [0.8787, 0.6564, 0.2319]])\n",
            "Matrix:\n",
            " [[0.81523117 0.3893448  0.68097443]\n",
            " [0.45075004 0.72112311 0.67144527]]\n"
          ]
        }
      ]
    },
    {
      "cell_type": "code",
      "source": [
        "tensor = torch.zeros(2,3)\n",
        "matrix = np.zeros((2,3))\n",
        "print(f\"Tensor:\\n {tensor}\")\n",
        "print(f\"Matrix:\\n {matrix}\")"
      ],
      "metadata": {
        "colab": {
          "base_uri": "https://localhost:8080/"
        },
        "id": "9ka9l7qNTpsu",
        "outputId": "65820597-76ef-464e-ad5d-fce6f5c4ae3d"
      },
      "execution_count": null,
      "outputs": [
        {
          "output_type": "stream",
          "name": "stdout",
          "text": [
            "Tensor:\n",
            " tensor([[0., 0., 0.],\n",
            "        [0., 0., 0.]])\n",
            "Matrix:\n",
            " [[0. 0. 0.]\n",
            " [0. 0. 0.]]\n"
          ]
        }
      ]
    },
    {
      "cell_type": "code",
      "source": [
        "tensor = torch.ones(2,3)\n",
        "matrix = np.ones((2,3))\n",
        "print(f\"Tensor:\\n {tensor}\")\n",
        "print(f\"Matrix:\\n {matrix}\")"
      ],
      "metadata": {
        "colab": {
          "base_uri": "https://localhost:8080/"
        },
        "id": "Kttq50sNT7JZ",
        "outputId": "358cd865-828f-459d-a2f9-68250c946750"
      },
      "execution_count": null,
      "outputs": [
        {
          "output_type": "stream",
          "name": "stdout",
          "text": [
            "Tensor:\n",
            " tensor([[1., 1., 1.],\n",
            "        [1., 1., 1.]])\n",
            "Matrix:\n",
            " [[1. 1. 1.]\n",
            " [1. 1. 1.]]\n"
          ]
        }
      ]
    },
    {
      "cell_type": "code",
      "source": [
        "print(f\"Tensor:\\n {tensor.dtype}\")\n",
        "print(f\"Matrix:\\n {matrix.dtype}\")"
      ],
      "metadata": {
        "colab": {
          "base_uri": "https://localhost:8080/"
        },
        "id": "nWXL7xHzT_dk",
        "outputId": "fb0238b1-63fe-425a-f652-aa787869ca04"
      },
      "execution_count": null,
      "outputs": [
        {
          "output_type": "stream",
          "name": "stdout",
          "text": [
            "Tensor:\n",
            " torch.float32\n",
            "Matrix:\n",
            " float64\n"
          ]
        }
      ]
    },
    {
      "cell_type": "code",
      "source": [
        "print(f\"Tensor:\\n {tensor.size()}\") # method\n",
        "print(f\"Tensor:\\n {tensor.shape}\")  # attribute\n",
        "print(f\"Matrix:\\n {matrix.shape}\")"
      ],
      "metadata": {
        "colab": {
          "base_uri": "https://localhost:8080/"
        },
        "id": "ahjFAvuPUWt4",
        "outputId": "b6bcce54-8e34-44fd-bccf-8ceff26a6d06"
      },
      "execution_count": null,
      "outputs": [
        {
          "output_type": "stream",
          "name": "stdout",
          "text": [
            "Tensor:\n",
            " torch.Size([2, 3])\n",
            "Tensor:\n",
            " torch.Size([2, 3])\n",
            "Matrix:\n",
            " (2, 3)\n"
          ]
        }
      ]
    },
    {
      "cell_type": "code",
      "source": [
        "# list to torch\n",
        "tensor = torch.tensor([2.3, 1.2, 5.7])\n",
        "print(f\"Tensor:\\n {tensor.size()}\")\n",
        "# list to numpy\n",
        "matrix = np.array([2.3, 1.2, 5.7])\n",
        "print(f\"Matrix:\\n {matrix.shape}\")"
      ],
      "metadata": {
        "colab": {
          "base_uri": "https://localhost:8080/"
        },
        "id": "YukiLa8iUnH-",
        "outputId": "0f2e15a2-942f-4661-823a-c3a3837da70a"
      },
      "execution_count": null,
      "outputs": [
        {
          "output_type": "stream",
          "name": "stdout",
          "text": [
            "Tensor:\n",
            " torch.Size([3])\n",
            "Matrix:\n",
            " (3,)\n"
          ]
        }
      ]
    },
    {
      "cell_type": "code",
      "source": [
        "# numpy <=> torch\n",
        "tensor = torch.tensor([1, 2, 3])\n",
        "matrix = np.array([1, 2, 3])\n",
        "print(torch.from_numpy(matrix))\n",
        "print(tensor.numpy())"
      ],
      "metadata": {
        "colab": {
          "base_uri": "https://localhost:8080/"
        },
        "id": "P4RwsBO_V1XA",
        "outputId": "e9533ee7-a0ab-4f21-eff4-a4668cd5e353"
      },
      "execution_count": null,
      "outputs": [
        {
          "output_type": "stream",
          "name": "stdout",
          "text": [
            "tensor([1, 2, 3])\n",
            "[1 2 3]\n"
          ]
        }
      ]
    },
    {
      "cell_type": "code",
      "source": [
        "# call by reference\n",
        "tensor = torch.tensor([1, 2, 3])\n",
        "matrix = tensor.numpy()\n",
        "\n",
        "tensor += 1\n",
        "print(tensor)\n",
        "print(matrix)"
      ],
      "metadata": {
        "colab": {
          "base_uri": "https://localhost:8080/"
        },
        "id": "h-d4vAdtWieX",
        "outputId": "4c9eead1-77ff-4615-edf0-1c976cf7dc3d"
      },
      "execution_count": null,
      "outputs": [
        {
          "output_type": "stream",
          "name": "stdout",
          "text": [
            "tensor([2, 3, 4])\n",
            "[2 3 4]\n"
          ]
        }
      ]
    },
    {
      "cell_type": "code",
      "source": [
        "# operator \n",
        "t1 = torch.tensor([2.3, 1.2, 5.7])\n",
        "t2 = torch.tensor([3.2, 2.8, 7.8])\n",
        "print(torch.add(t1, t2)) # t1 + t2\n",
        "print(torch.sub(t1, t2)) # t1 - t2\n",
        "print(torch.mul(t1, t2)) # t1 * t2\n",
        "print(torch.div(t1, t2)) # t1 / t2"
      ],
      "metadata": {
        "colab": {
          "base_uri": "https://localhost:8080/"
        },
        "id": "R6_77ZCNW6QS",
        "outputId": "2f85c8c0-31c3-4ce2-e505-dcc701d3d583"
      },
      "execution_count": null,
      "outputs": [
        {
          "output_type": "stream",
          "name": "stdout",
          "text": [
            "tensor([ 5.5000,  4.0000, 13.5000])\n",
            "tensor([-0.9000, -1.6000, -2.1000])\n",
            "tensor([ 7.3600,  3.3600, 44.4600])\n",
            "tensor([0.7188, 0.4286, 0.7308])\n"
          ]
        }
      ]
    },
    {
      "cell_type": "code",
      "source": [
        "# slice\n",
        "tensor = torch.rand(5,3)\n",
        "print(tensor)\n",
        "print(tensor[:,1:3]) # 含前不含後\n",
        "print(tensor[1,1].item())"
      ],
      "metadata": {
        "colab": {
          "base_uri": "https://localhost:8080/"
        },
        "id": "fd7JderBXtPx",
        "outputId": "c5296f80-a350-47a8-8aa5-ed691b1bbad9"
      },
      "execution_count": null,
      "outputs": [
        {
          "output_type": "stream",
          "name": "stdout",
          "text": [
            "tensor([[0.8685, 0.0089, 0.5715],\n",
            "        [0.1306, 0.2420, 0.0258],\n",
            "        [0.1397, 0.3621, 0.0224],\n",
            "        [0.8908, 0.2101, 0.0264],\n",
            "        [0.7298, 0.0880, 0.0264]])\n",
            "tensor([[0.0089, 0.5715],\n",
            "        [0.2420, 0.0258],\n",
            "        [0.3621, 0.0224],\n",
            "        [0.2101, 0.0264],\n",
            "        [0.0880, 0.0264]])\n",
            "0.2419639229774475\n"
          ]
        }
      ]
    },
    {
      "cell_type": "code",
      "source": [
        "# view\n",
        "tensor = torch.rand(2,6)\n",
        "print(tensor)\n",
        "print(tensor.view(3,4))\n",
        "print(tensor.view(12))\n",
        "print(tensor.view(12,1))\n",
        "print(tensor.view(1,12))\n",
        "print(tensor.view(-1,3)) # 全部除以後面的等於前面的維度\n",
        "print(tensor)"
      ],
      "metadata": {
        "colab": {
          "base_uri": "https://localhost:8080/"
        },
        "id": "P8VOEoAJYCYW",
        "outputId": "0c3919ad-254b-4f0f-cd76-3e491bfbe2fe"
      },
      "execution_count": null,
      "outputs": [
        {
          "output_type": "stream",
          "name": "stdout",
          "text": [
            "tensor([[0.9833, 0.3432, 0.5205, 0.1823, 0.9415, 0.0677],\n",
            "        [0.5227, 0.4199, 0.5462, 0.2893, 0.3536, 0.5471]])\n",
            "tensor([[0.9833, 0.3432, 0.5205, 0.1823],\n",
            "        [0.9415, 0.0677, 0.5227, 0.4199],\n",
            "        [0.5462, 0.2893, 0.3536, 0.5471]])\n",
            "tensor([0.9833, 0.3432, 0.5205, 0.1823, 0.9415, 0.0677, 0.5227, 0.4199, 0.5462,\n",
            "        0.2893, 0.3536, 0.5471])\n",
            "tensor([[0.9833],\n",
            "        [0.3432],\n",
            "        [0.5205],\n",
            "        [0.1823],\n",
            "        [0.9415],\n",
            "        [0.0677],\n",
            "        [0.5227],\n",
            "        [0.4199],\n",
            "        [0.5462],\n",
            "        [0.2893],\n",
            "        [0.3536],\n",
            "        [0.5471]])\n",
            "tensor([[0.9833, 0.3432, 0.5205, 0.1823, 0.9415, 0.0677, 0.5227, 0.4199, 0.5462,\n",
            "         0.2893, 0.3536, 0.5471]])\n",
            "tensor([[0.9833, 0.3432, 0.5205],\n",
            "        [0.1823, 0.9415, 0.0677],\n",
            "        [0.5227, 0.4199, 0.5462],\n",
            "        [0.2893, 0.3536, 0.5471]])\n",
            "tensor([[0.9833, 0.3432, 0.5205, 0.1823, 0.9415, 0.0677],\n",
            "        [0.5227, 0.4199, 0.5462, 0.2893, 0.3536, 0.5471]])\n"
          ]
        }
      ]
    },
    {
      "cell_type": "code",
      "source": [
        "# reshape, view 完全相同\n",
        "tensor = torch.rand(2,6)\n",
        "print(tensor)\n",
        "print(tensor.reshape(3,4))\n",
        "print(tensor.reshape(12))\n",
        "print(tensor.reshape(12,1))\n",
        "print(tensor.reshape(1,12))\n",
        "print(tensor.reshape(-1,3)) # 全部除以後面的等於前面的維度\n",
        "print(tensor)"
      ],
      "metadata": {
        "colab": {
          "base_uri": "https://localhost:8080/"
        },
        "id": "lUVqw4MBYls9",
        "outputId": "ed59dce3-2b87-4865-82fa-c1b2f444734d"
      },
      "execution_count": null,
      "outputs": [
        {
          "output_type": "stream",
          "name": "stdout",
          "text": [
            "tensor([[0.0923, 0.7465, 0.1151, 0.1830, 0.5052, 0.1694],\n",
            "        [0.2464, 0.2285, 0.7263, 0.3876, 0.8085, 0.5469]])\n",
            "tensor([[0.0923, 0.7465, 0.1151, 0.1830],\n",
            "        [0.5052, 0.1694, 0.2464, 0.2285],\n",
            "        [0.7263, 0.3876, 0.8085, 0.5469]])\n",
            "tensor([0.0923, 0.7465, 0.1151, 0.1830, 0.5052, 0.1694, 0.2464, 0.2285, 0.7263,\n",
            "        0.3876, 0.8085, 0.5469])\n",
            "tensor([[0.0923],\n",
            "        [0.7465],\n",
            "        [0.1151],\n",
            "        [0.1830],\n",
            "        [0.5052],\n",
            "        [0.1694],\n",
            "        [0.2464],\n",
            "        [0.2285],\n",
            "        [0.7263],\n",
            "        [0.3876],\n",
            "        [0.8085],\n",
            "        [0.5469]])\n",
            "tensor([[0.0923, 0.7465, 0.1151, 0.1830, 0.5052, 0.1694, 0.2464, 0.2285, 0.7263,\n",
            "         0.3876, 0.8085, 0.5469]])\n",
            "tensor([[0.0923, 0.7465, 0.1151],\n",
            "        [0.1830, 0.5052, 0.1694],\n",
            "        [0.2464, 0.2285, 0.7263],\n",
            "        [0.3876, 0.8085, 0.5469]])\n",
            "tensor([[0.0923, 0.7465, 0.1151, 0.1830, 0.5052, 0.1694],\n",
            "        [0.2464, 0.2285, 0.7263, 0.3876, 0.8085, 0.5469]])\n"
          ]
        }
      ]
    }
  ]
}